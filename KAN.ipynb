{
 "cells": [
  {
   "cell_type": "code",
   "execution_count": 1,
   "id": "42016b23-5563-48e3-a28f-43b280ee8959",
   "metadata": {},
   "outputs": [],
   "source": [
    "import numpy as np\n",
    "import pandas as pd\n",
    "import seaborn as sns\n",
    "from sklearn import linear_model\n",
    "from sklearn.model_selection import train_test_split\n",
    "from sklearn.tree import DecisionTreeRegressor, DecisionTreeClassifier\n",
    "from sklearn import metrics \n",
    "from sklearn import linear_model\n",
    "from sklearn.model_selection import validation_curve, ValidationCurveDisplay\n",
    "from sklearn.ensemble import RandomForestRegressor\n",
    "from sklearn.neighbors import KNeighborsRegressor\n",
    "from sklearn.ensemble import GradientBoostingRegressor, GradientBoostingClassifier\n",
    "from sklearn.model_selection import validation_curve, ValidationCurveDisplay, cross_val_score\n",
    "\n",
    "from kan import *"
   ]
  },
  {
   "cell_type": "code",
   "execution_count": 2,
   "id": "d1b7becb-e21c-4cf2-899e-978cf7fee8a6",
   "metadata": {},
   "outputs": [
    {
     "name": "stdout",
     "output_type": "stream",
     "text": [
      "(14907, 11)\n"
     ]
    }
   ],
   "source": [
    "# Решил убрать показатели цепочки пептида и протеина, потому что их нельзя использовать для составления регрессии\n",
    "\n",
    "df = pd.concat(map(pd.read_csv, ['input_bcell.csv', 'input_sars.csv']), ignore_index=True) \n",
    "df = df.drop(columns= ['peptide_seq','protein_seq','parent_protein_id'])\n",
    "# df = pd.get_dummies(df, columns=['peptide_seq','protein_seq'])\n",
    "\n",
    "print(f\"{df.shape}\")\n",
    "\n",
    "#Задаём значение Х и у\n",
    "y = df['target']\n",
    "X = X = df.drop(columns = 'target')\n",
    "X_train, X_test, y_train, y_test= train_test_split(X,y, test_size=0.8)\n",
    "#Прогнозируем валентность антител (target 1 - антитела валентны)"
   ]
  },
  {
   "cell_type": "code",
   "execution_count": 6,
   "id": "a1446557-8ade-489f-b10a-d379eee58853",
   "metadata": {},
   "outputs": [
    {
     "data": {
      "text/html": [
       "<div>\n",
       "<style scoped>\n",
       "    .dataframe tbody tr th:only-of-type {\n",
       "        vertical-align: middle;\n",
       "    }\n",
       "\n",
       "    .dataframe tbody tr th {\n",
       "        vertical-align: top;\n",
       "    }\n",
       "\n",
       "    .dataframe thead th {\n",
       "        text-align: right;\n",
       "    }\n",
       "</style>\n",
       "<table border=\"1\" class=\"dataframe\">\n",
       "  <thead>\n",
       "    <tr style=\"text-align: right;\">\n",
       "      <th></th>\n",
       "      <th>start_position</th>\n",
       "      <th>end_position</th>\n",
       "      <th>chou_fasman</th>\n",
       "      <th>emini</th>\n",
       "      <th>kolaskar_tongaonkar</th>\n",
       "      <th>parker</th>\n",
       "      <th>isoelectric_point</th>\n",
       "      <th>aromaticity</th>\n",
       "      <th>hydrophobicity</th>\n",
       "      <th>stability</th>\n",
       "      <th>target</th>\n",
       "    </tr>\n",
       "  </thead>\n",
       "  <tbody>\n",
       "    <tr>\n",
       "      <th>0</th>\n",
       "      <td>161</td>\n",
       "      <td>165</td>\n",
       "      <td>1.016</td>\n",
       "      <td>0.703</td>\n",
       "      <td>1.018</td>\n",
       "      <td>2.22</td>\n",
       "      <td>5.810364</td>\n",
       "      <td>0.103275</td>\n",
       "      <td>-0.143829</td>\n",
       "      <td>40.273300</td>\n",
       "      <td>1</td>\n",
       "    </tr>\n",
       "    <tr>\n",
       "      <th>1</th>\n",
       "      <td>251</td>\n",
       "      <td>255</td>\n",
       "      <td>0.770</td>\n",
       "      <td>0.179</td>\n",
       "      <td>1.199</td>\n",
       "      <td>-3.86</td>\n",
       "      <td>6.210876</td>\n",
       "      <td>0.065476</td>\n",
       "      <td>-0.036905</td>\n",
       "      <td>24.998512</td>\n",
       "      <td>1</td>\n",
       "    </tr>\n",
       "    <tr>\n",
       "      <th>2</th>\n",
       "      <td>145</td>\n",
       "      <td>149</td>\n",
       "      <td>0.852</td>\n",
       "      <td>3.427</td>\n",
       "      <td>0.960</td>\n",
       "      <td>4.28</td>\n",
       "      <td>8.223938</td>\n",
       "      <td>0.091787</td>\n",
       "      <td>0.879227</td>\n",
       "      <td>27.863333</td>\n",
       "      <td>1</td>\n",
       "    </tr>\n",
       "    <tr>\n",
       "      <th>3</th>\n",
       "      <td>152</td>\n",
       "      <td>156</td>\n",
       "      <td>1.410</td>\n",
       "      <td>2.548</td>\n",
       "      <td>0.936</td>\n",
       "      <td>6.32</td>\n",
       "      <td>4.237976</td>\n",
       "      <td>0.044776</td>\n",
       "      <td>-0.521393</td>\n",
       "      <td>30.765373</td>\n",
       "      <td>1</td>\n",
       "    </tr>\n",
       "    <tr>\n",
       "      <th>4</th>\n",
       "      <td>85</td>\n",
       "      <td>89</td>\n",
       "      <td>1.214</td>\n",
       "      <td>1.908</td>\n",
       "      <td>0.937</td>\n",
       "      <td>4.64</td>\n",
       "      <td>6.867493</td>\n",
       "      <td>0.103846</td>\n",
       "      <td>-0.578846</td>\n",
       "      <td>21.684615</td>\n",
       "      <td>1</td>\n",
       "    </tr>\n",
       "  </tbody>\n",
       "</table>\n",
       "</div>"
      ],
      "text/plain": [
       "   start_position  end_position  chou_fasman  emini  kolaskar_tongaonkar  \\\n",
       "0             161           165        1.016  0.703                1.018   \n",
       "1             251           255        0.770  0.179                1.199   \n",
       "2             145           149        0.852  3.427                0.960   \n",
       "3             152           156        1.410  2.548                0.936   \n",
       "4              85            89        1.214  1.908                0.937   \n",
       "\n",
       "   parker  isoelectric_point  aromaticity  hydrophobicity  stability  target  \n",
       "0    2.22           5.810364     0.103275       -0.143829  40.273300       1  \n",
       "1   -3.86           6.210876     0.065476       -0.036905  24.998512       1  \n",
       "2    4.28           8.223938     0.091787        0.879227  27.863333       1  \n",
       "3    6.32           4.237976     0.044776       -0.521393  30.765373       1  \n",
       "4    4.64           6.867493     0.103846       -0.578846  21.684615       1  "
      ]
     },
     "execution_count": 6,
     "metadata": {},
     "output_type": "execute_result"
    }
   ],
   "source": [
    "df.head()"
   ]
  },
  {
   "cell_type": "markdown",
   "id": "7c1981e7-6b33-48da-9ffd-9a1ce5f62e17",
   "metadata": {},
   "source": [
    "# Ковид - регрессия Решающими деревьями по максимальной глубине"
   ]
  },
  {
   "cell_type": "code",
   "execution_count": 51,
   "id": "3727de97-80d5-4702-a292-deac10c146a4",
   "metadata": {},
   "outputs": [
    {
     "data": {
      "text/plain": [
       "0.10826322603595939"
      ]
     },
     "execution_count": 51,
     "metadata": {},
     "output_type": "execute_result"
    }
   ],
   "source": [
    "#Решающие деревья\n",
    "rg_tree = DecisionTreeRegressor(random_state=0, max_depth=10)\n",
    "rg_tree.fit(X_train, y_train)\n",
    "rg_tree.score(X_test,y_test)"
   ]
  },
  {
   "cell_type": "markdown",
   "id": "1529ced4-f05b-4a8f-8ca8-08ceedfadccf",
   "metadata": {},
   "source": [
    "## Кросс валидация Decision Tree Regression"
   ]
  },
  {
   "cell_type": "code",
   "execution_count": 52,
   "id": "bd015c54-daf0-40e9-96a7-32043db5ec71",
   "metadata": {},
   "outputs": [
    {
     "data": {
      "text/plain": [
       "<sklearn.model_selection._plot.ValidationCurveDisplay at 0x7ff542ee67d0>"
      ]
     },
     "execution_count": 52,
     "metadata": {},
     "output_type": "execute_result"
    },
    {
     "data": {
      "image/png": "[encoded data removed]",
      "text/plain": [
       "<Figure size 640x480 with 1 Axes>"
      ]
     },
     "metadata": {},
     "output_type": "display_data"
    }
   ],
   "source": [
    "param_range = np.arange(0, 20, 1)\n",
    "train_scores, test_scores = validation_curve(rg_tree, X, y, param_name=\"max_depth\", param_range=param_range, n_jobs=-1, cv=10, scoring=\"r2\")\n",
    "display = ValidationCurveDisplay( param_name='max_depth', param_range=param_range, train_scores=train_scores, test_scores=test_scores, score_name=\"r2\" )\n",
    "display.plot()\n"
   ]
  },
  {
   "cell_type": "markdown",
   "id": "7536773f-b3f1-41ba-8332-969729d6d336",
   "metadata": {},
   "source": [
    "## Набор оценочных показателей (Decision Tree)"
   ]
  },
  {
   "cell_type": "code",
   "execution_count": 53,
   "id": "ede2030c-cde3-4f39-9773-ea5214527b81",
   "metadata": {},
   "outputs": [
    {
     "name": "stdout",
     "output_type": "stream",
     "text": [
      "MSE|RMSE :(0.17678685545789435, 0.4204602899893096)\n",
      "MAE: 0.25047883145017663\n",
      "MAPE: 532545460911154.75\n",
      "R2: 0.10826322603595939\n",
      "Mean squared logarithmic error regression loss.: 0.0852024281231848\n"
     ]
    },
    {
     "name": "stderr",
     "output_type": "stream",
     "text": [
      "/home/kali/.local/lib/python3.11/site-packages/sklearn/metrics/_regression.py:483: FutureWarning: 'squared' is deprecated in version 1.4 and will be removed in 1.6. To calculate the root mean squared error, use the function'root_mean_squared_error'.\n",
      "  warnings.warn(\n",
      "/home/kali/.local/lib/python3.11/site-packages/sklearn/metrics/_regression.py:483: FutureWarning: 'squared' is deprecated in version 1.4 and will be removed in 1.6. To calculate the root mean squared error, use the function'root_mean_squared_error'.\n",
      "  warnings.warn(\n"
     ]
    }
   ],
   "source": [
    "print(f\"MSE|RMSE :{metrics.mean_squared_error(y_test, rg_tree.predict(X_test), squared=True), metrics.mean_squared_error(y_test, rg_tree.predict(X_test), squared=False)}\")\n",
    "print(f\"MAE: {metrics.mean_absolute_error(y_test, rg_tree.predict(X_test))}\")\n",
    "print(f\"MAPE: {metrics.mean_absolute_percentage_error(y_test, rg_tree.predict(X_test))}\")\n",
    "print(f\"R2: {metrics.r2_score(y_test, rg_tree.predict(X_test))}\")\n",
    "print(f\"Mean squared logarithmic error regression loss.: {metrics.mean_squared_log_error(y_test, rg_tree.predict(X_test))}\")"
   ]
  },
  {
   "cell_type": "markdown",
   "id": "3cbe03a8-8195-47d2-b3cf-9ae5a9e27b53",
   "metadata": {},
   "source": [
    "# Градиентный бустинг"
   ]
  },
  {
   "cell_type": "code",
   "execution_count": 54,
   "id": "70d5b02b-3202-464e-915f-9475e61e0293",
   "metadata": {},
   "outputs": [
    {
     "data": {
      "text/plain": [
       "<sklearn.model_selection._plot.ValidationCurveDisplay at 0x7ff5433d1c50>"
      ]
     },
     "execution_count": 54,
     "metadata": {},
     "output_type": "execute_result"
    },
    {
     "data": {
      "image/png": "[encoded data removed]",
      "text/plain": [
       "<Figure size 640x480 with 1 Axes>"
      ]
     },
     "metadata": {},
     "output_type": "display_data"
    }
   ],
   "source": [
    "gbr = GradientBoostingRegressor(random_state=0)\n",
    "gbr.fit(X_train, y_train)\n",
    "gbr.score(X_test,y_test)\n",
    "\n",
    "param_range = np.arange(0, 100, 2)\n",
    "train_scores, test_scores = validation_curve(gbr, X, y, param_name=\"n_estimators\", param_range=param_range, n_jobs=-1, cv=10, scoring=\"r2\")\n",
    "display = ValidationCurveDisplay( param_name='', param_range=param_range, train_scores=train_scores, test_scores=test_scores, score_name=\"r2\" )\n",
    "display.plot()"
   ]
  },
  {
   "cell_type": "markdown",
   "id": "f0ff46f8-0b11-455d-9828-787e8bb1dd6c",
   "metadata": {},
   "source": [
    "## Набор оценочных показателей (GBRR)"
   ]
  },
  {
   "cell_type": "code",
   "execution_count": 55,
   "id": "ee36716a-8b59-452c-b0a6-234f33118ad4",
   "metadata": {},
   "outputs": [
    {
     "name": "stdout",
     "output_type": "stream",
     "text": [
      "MSE|RMSE :(0.14507824595084534, 0.3808913834032549)\n",
      "MAE: 0.3032994701598961\n",
      "MAPE: 671802293829204.0\n",
      "R2: 0.26820573463177444\n"
     ]
    },
    {
     "name": "stderr",
     "output_type": "stream",
     "text": [
      "/home/kali/.local/lib/python3.11/site-packages/sklearn/metrics/_regression.py:483: FutureWarning: 'squared' is deprecated in version 1.4 and will be removed in 1.6. To calculate the root mean squared error, use the function'root_mean_squared_error'.\n",
      "  warnings.warn(\n",
      "/home/kali/.local/lib/python3.11/site-packages/sklearn/metrics/_regression.py:483: FutureWarning: 'squared' is deprecated in version 1.4 and will be removed in 1.6. To calculate the root mean squared error, use the function'root_mean_squared_error'.\n",
      "  warnings.warn(\n"
     ]
    }
   ],
   "source": [
    "print(f\"MSE|RMSE :{metrics.mean_squared_error(y_test, gbr.predict(X_test), squared=True), metrics.mean_squared_error(y_test, gbr.predict(X_test), squared=False)}\")\n",
    "print(f\"MAE: {metrics.mean_absolute_error(y_test, gbr.predict(X_test))}\")\n",
    "print(f\"MAPE: {metrics.mean_absolute_percentage_error(y_test, gbr.predict(X_test))}\")\n",
    "print(f\"R2: {metrics.r2_score(y_test, gbr.predict(X_test))}\")"
   ]
  },
  {
   "cell_type": "markdown",
   "id": "2b06c69a-bd9b-48f7-ac23-79322823d20a",
   "metadata": {},
   "source": [
    "# Ближайшие соседи (регрессия)"
   ]
  },
  {
   "cell_type": "code",
   "execution_count": 56,
   "id": "4698d6ca-d425-405d-880e-5801e5e7a4d6",
   "metadata": {},
   "outputs": [
    {
     "data": {
      "text/plain": [
       "-0.0555209986878038"
      ]
     },
     "execution_count": 56,
     "metadata": {},
     "output_type": "execute_result"
    }
   ],
   "source": [
    "knn_r = KNeighborsRegressor()\n",
    "knn_r.fit(X_train, y_train)\n",
    "knn_r.score(X_test, y_test)"
   ]
  },
  {
   "cell_type": "code",
   "execution_count": 57,
   "id": "3eb5c302-6982-4b14-855b-1d9a029038a1",
   "metadata": {},
   "outputs": [
    {
     "data": {
      "text/plain": [
       "<sklearn.model_selection._plot.ValidationCurveDisplay at 0x7ff542725d50>"
      ]
     },
     "execution_count": 57,
     "metadata": {},
     "output_type": "execute_result"
    },
    {
     "data": {
      "image/png": "[encoded data removed]",
      "text/plain": [
       "<Figure size 640x480 with 1 Axes>"
      ]
     },
     "metadata": {},
     "output_type": "display_data"
    }
   ],
   "source": [
    "param_range = np.arange(0, 20, 1)\n",
    "train_scores, test_scores = validation_curve(knn_r, X, y, param_name=\"n_neighbors\", param_range=param_range, n_jobs=-1, cv=10, scoring=\"r2\")\n",
    "display = ValidationCurveDisplay( param_name='n_neighbors', param_range=param_range, train_scores=train_scores, test_scores=test_scores, score_name=\"r2\" )\n",
    "display.plot()"
   ]
  },
  {
   "cell_type": "markdown",
   "id": "f121d27a-5dcf-4e7b-a33f-4a6cf9a913fc",
   "metadata": {},
   "source": [
    "## Набор оценочных показателей (KNNR)"
   ]
  },
  {
   "cell_type": "code",
   "execution_count": 58,
   "id": "35627d44-a940-4aae-91c2-a587f35dfb59",
   "metadata": {},
   "outputs": [
    {
     "name": "stdout",
     "output_type": "stream",
     "text": [
      "MSE|RMSE :(0.2092570853597183, 0.4574462649970139)\n",
      "MAE: 0.34888478953546875\n",
      "MAPE: 741209571407245.6\n",
      "R2: -0.0555209986878038\n",
      "Mean squared logarithmic error regression loss.: 0.10462289266961784\n"
     ]
    },
    {
     "name": "stderr",
     "output_type": "stream",
     "text": [
      "/home/kali/.local/lib/python3.11/site-packages/sklearn/metrics/_regression.py:483: FutureWarning: 'squared' is deprecated in version 1.4 and will be removed in 1.6. To calculate the root mean squared error, use the function'root_mean_squared_error'.\n",
      "  warnings.warn(\n",
      "/home/kali/.local/lib/python3.11/site-packages/sklearn/metrics/_regression.py:483: FutureWarning: 'squared' is deprecated in version 1.4 and will be removed in 1.6. To calculate the root mean squared error, use the function'root_mean_squared_error'.\n",
      "  warnings.warn(\n"
     ]
    }
   ],
   "source": [
    "\n",
    "print(f\"MSE|RMSE :{metrics.mean_squared_error(y_test, knn_r.predict(X_test), squared=True), metrics.mean_squared_error(y_test, knn_r.predict(X_test), squared=False)}\")\n",
    "print(f\"MAE: {metrics.mean_absolute_error(y_test, knn_r.predict(X_test))}\")\n",
    "print(f\"MAPE: {metrics.mean_absolute_percentage_error(y_test, knn_r.predict(X_test))}\")\n",
    "print(f\"R2: {metrics.r2_score(y_test, knn_r.predict(X_test))}\")\n",
    "print(f\"Mean squared logarithmic error regression loss.: {metrics.mean_squared_log_error(y_test, knn_r.predict(X_test))}\")"
   ]
  },
  {
   "cell_type": "markdown",
   "id": "44367799-81d7-426e-8e60-871049ec7688",
   "metadata": {},
   "source": [
    "# Квантильная регрессия"
   ]
  },
  {
   "cell_type": "code",
   "execution_count": 59,
   "id": "e04acbd9-3dcb-4fad-8999-c79b219dd75d",
   "metadata": {},
   "outputs": [
    {
     "data": {
      "text/plain": [
       "-0.37459658828953435"
      ]
     },
     "execution_count": 59,
     "metadata": {},
     "output_type": "execute_result"
    }
   ],
   "source": [
    "quantile_reg = linear_model.QuantileRegressor(quantile=0.5, alpha=0.2,  fit_intercept=True, solver='highs-ipm')\n",
    "quantile_reg.fit(X_train, y_train)\n",
    "quantile_reg.score(X_test, y_test)"
   ]
  },
  {
   "cell_type": "markdown",
   "id": "6a949d9e-55f1-4a45-963c-6b00859d1507",
   "metadata": {},
   "source": [
    "# Линейная регрессия"
   ]
  },
  {
   "cell_type": "code",
   "execution_count": 60,
   "id": "e96476f7-25e1-4785-89b5-2401929c0053",
   "metadata": {},
   "outputs": [
    {
     "data": {
      "text/plain": [
       "0.05529162616712835"
      ]
     },
     "execution_count": 60,
     "metadata": {},
     "output_type": "execute_result"
    }
   ],
   "source": [
    "lin_reg = linear_model.LinearRegression(fit_intercept=True)\n",
    "lin_reg.fit(X_train, y_train)\n",
    "lin_reg.score(X_test, y_test)"
   ]
  },
  {
   "cell_type": "markdown",
   "id": "bbccbbdb-8d4e-4ce9-8eed-6b5dbf32b043",
   "metadata": {},
   "source": [
    "# Ридж регрессия"
   ]
  },
  {
   "cell_type": "code",
   "execution_count": 61,
   "id": "91295da6-3667-4bea-b2bf-5192c0d295bd",
   "metadata": {},
   "outputs": [
    {
     "data": {
      "text/plain": [
       "0.0553911080925833"
      ]
     },
     "execution_count": 61,
     "metadata": {},
     "output_type": "execute_result"
    }
   ],
   "source": [
    "ridge_reg = linear_model.Ridge(alpha=0.5, fit_intercept=True)\n",
    "ridge_reg.fit(X_train, y_train)\n",
    "ridge_reg.score(X_test, y_test)"
   ]
  },
  {
   "cell_type": "markdown",
   "id": "9a6e901d-2332-4535-971e-7710d731a014",
   "metadata": {},
   "source": [
    "# Регрессия лассо"
   ]
  },
  {
   "cell_type": "code",
   "execution_count": 62,
   "id": "cca865a9-e668-4bab-8efa-d5d7acda927b",
   "metadata": {},
   "outputs": [
    {
     "data": {
      "text/plain": [
       "0.0042274150120636955"
      ]
     },
     "execution_count": 62,
     "metadata": {},
     "output_type": "execute_result"
    }
   ],
   "source": [
    "lasso_reg = linear_model.Lasso(alpha=0.5, fit_intercept=True)\n",
    "lasso_reg.fit(X_train, y_train)\n",
    "lasso_reg.score(X_test, y_test)"
   ]
  },
  {
   "cell_type": "markdown",
   "id": "b6263279",
   "metadata": {},
   "source": [
    "# Новая нейросеть Колмогорова - Арнольда (KAN)"
   ]
  },
  {
   "cell_type": "markdown",
   "id": "65778f40-f637-49e4-b61b-695518851bfd",
   "metadata": {},
   "source": [
    "\n",
    "Нейросеть KAN (Kernel Attention Network) — это один из современных подходов в области машинного обучения, который объединяет идеи свёрточных нейронных сетей (Convolutional Neural Networks, CNNs) и механизмов внимания (Attention mechanisms). KAN предназначена для улучшения эффективности и точности обработки данных, особенно в задачах, связанных с анализом временных рядов, обработки изображений и других данных, где пространственные и временные зависимости играют ключевую роль."
   ]
  },
  {
   "cell_type": "markdown",
   "id": "5dac3cae-b375-49c8-84e5-bdf20888c2d5",
   "metadata": {},
   "source": [
    "Перед началом работы с новой архитектурой нейросети можно перейти по ссылке на github разработчиков \n",
    "https://github.com/KindXiaoming/pykan \n",
    "или просто установить следующие пакеты:\n",
    "\n",
    "    "
   ]
  },
  {
   "cell_type": "markdown",
   "id": "fd0251c9-75bf-4aa8-98a4-203d2cfc1f14",
   "metadata": {},
   "source": [
    " matplotlib==3.6.2\n"
   ]
  },
  {
   "cell_type": "markdown",
   "id": "c375de2e-e215-4797-9277-2af3b526a764",
   "metadata": {},
   "source": [
    "scikit_learn==1.1.3"
   ]
  },
  {
   "cell_type": "markdown",
   "id": "c235726c-32a5-4030-a4f8-115b7d124509",
   "metadata": {},
   "source": [
    "setuptools==65.5.0"
   ]
  },
  {
   "cell_type": "markdown",
   "id": "8acd0e3f-fd72-4a09-a609-a327dad6592e",
   "metadata": {},
   "source": [
    "sympy==1.11.1"
   ]
  },
  {
   "cell_type": "markdown",
   "id": "9d4b00f3-8ce0-468c-b4b4-e4149dbe8cd4",
   "metadata": {},
   "source": [
    "torch==2.2.2"
   ]
  },
  {
   "cell_type": "markdown",
   "id": "2825b8de-48d5-4e14-be62-2d39502a7d23",
   "metadata": {},
   "source": [
    "tqdm==4.66.2"
   ]
  },
  {
   "cell_type": "markdown",
   "id": "6cb4fa83-55c0-4b01-aee8-e2d7c3eb1570",
   "metadata": {},
   "source": [
    "Основная библиотека работы с KAN называется pykan"
   ]
  },
  {
   "cell_type": "markdown",
   "id": "f3560b78-c16f-45d8-926f-ff6497a50dd2",
   "metadata": {},
   "source": [
    "    pip install pykan"
   ]
  },
  {
   "cell_type": "code",
   "execution_count": 3,
   "id": "dc6d36cb",
   "metadata": {},
   "outputs": [
    {
     "name": "stdout",
     "output_type": "stream",
     "text": [
      "Shape of train_input: torch.Size([11925, 10])\n",
      "Shape of train_label: torch.Size([11925, 1])\n",
      "Shape of test_input: torch.Size([2982, 10])\n",
      "Shape of test_label: torch.Size([2982, 1])\n"
     ]
    },
    {
     "data": {
      "text/plain": [
       "<matplotlib.collections.PathCollection at 0x1cb9acbf650>"
      ]
     },
     "execution_count": 3,
     "metadata": {},
     "output_type": "execute_result"
    },
    {
     "data": {
      "image/png": "[encoded data removed]",
      "text/plain": [
       "<Figure size 640x480 with 1 Axes>"
      ]
     },
     "metadata": {},
     "output_type": "display_data"
    }
   ],
   "source": [
    "from kan import *\n",
    "from sklearn.model_selection import train_test_split\n",
    "\n",
    "# Splitting the DataFrame into train and test sets\n",
    "train_df, test_df = train_test_split(df, test_size=0.2, random_state=42)\n",
    "\n",
    "# Converting training data into PyTorch tensors\n",
    "train_input = torch.tensor(train_df.drop(columns=['target']).values, dtype=torch.float32)\n",
    "train_label = torch.tensor(train_df['target'].values, dtype=torch.float32).unsqueeze(1)\n",
    "\n",
    "# Converting testing data into PyTorch tensors\n",
    "test_input = torch.tensor(test_df.drop(columns=['target']).values, dtype=torch.float32)\n",
    "test_label = torch.tensor(test_df['target'].values, dtype=torch.float32).unsqueeze(1)\n",
    "\n",
    "# Creating the dataset dictionary\n",
    "dataset = {\n",
    "    'train_input': train_input,\n",
    "    'train_label': train_label,\n",
    "    'test_input': test_input,\n",
    "    'test_label': test_label\n",
    "}\n",
    "\n",
    "# Checking the dimensions of the data\n",
    "print(\"Shape of train_input:\", dataset['train_input'].shape)\n",
    "print(\"Shape of train_label:\", dataset['train_label'].shape)\n",
    "print(\"Shape of test_input:\", dataset['test_input'].shape)\n",
    "print(\"Shape of test_label:\", dataset['test_label'].shape)\n",
    "\n",
    "# Visualizing training data\n",
    "X_train = dataset['train_input']\n",
    "y_train = dataset['train_label']\n",
    "plt.scatter(X_train[:,0], X_train[:,1], c=y_train[:,0])\n"
   ]
  },
  {
   "cell_type": "code",
   "execution_count": 8,
   "id": "a2c1ccff",
   "metadata": {},
   "outputs": [
    {
     "name": "stderr",
     "output_type": "stream",
     "text": [
      "train loss: 4.26e-01 | test loss: 4.25e-01 | reg: 3.92e+00 : 100%|██| 20/20 [00:03<00:00,  5.20it/s]\n"
     ]
    },
    {
     "data": {
      "text/plain": [
       "(0.7351781725883484, 0.7350771427154541)"
      ]
     },
     "execution_count": 8,
     "metadata": {},
     "output_type": "execute_result"
    }
   ],
   "source": [
    "# Так как у нас задача регрессии, на у нас будет 10 входов (10 столбцов, исключая target, 1 выход)\n",
    "# формируем KAN: 2D входы, 1D выходы, 5 скрытых нейронов, \n",
    "# кубические сплайны и сетка на 5 точках.\n",
    "\n",
    "model = KAN(width=[10,1], grid=5, k=3, seed=0)\n",
    "\n",
    "def train_acc():\n",
    "    return torch.mean((torch.round(model(dataset['train_input'])[:,0]) == dataset['train_label'][:,0]).float())\n",
    "\n",
    "def test_acc():\n",
    "    return torch.mean((torch.round(model(dataset['test_input'])[:,0]) == dataset['test_label'][:,0]).float())\n",
    "\n",
    "results = model.train(dataset, opt=\"LBFGS\", steps=20, metrics=(train_acc, test_acc));\n",
    "results['train_acc'][-1], results['test_acc'][-1]"
   ]
  },
  {
   "cell_type": "code",
   "execution_count": 5,
   "id": "3aa7281b-84fe-4284-87e6-9ada6da3dc77",
   "metadata": {},
   "outputs": [
    {
     "name": "stderr",
     "output_type": "stream",
     "text": [
      "train loss: 4.23e-01 | test loss: 4.22e-01 | reg: 3.25e+00 : 100%|██| 20/20 [00:04<00:00,  4.45it/s]"
     ]
    },
    {
     "name": "stdout",
     "output_type": "stream",
     "text": [
      "Train accuracy: 0.7338364720344543\n",
      "\n",
      "Test accuracy: 0.7377598881721497\n",
      "\n",
      "Train MAE: 0.35878992080688477\n",
      "\n",
      "Test MAE: 0.357664555311203\n",
      "\n",
      "Train MSE: 0.17930735647678375\n",
      "\n",
      "Test MSE: 0.17833635210990906\n",
      "\n"
     ]
    },
    {
     "name": "stderr",
     "output_type": "stream",
     "text": [
      "\n"
     ]
    }
   ],
   "source": [
    "import torch\n",
    "\n",
    "def train_mae():\n",
    "    return torch.mean(torch.abs(model(dataset['train_input'])[:,0] - dataset['train_label'][:,0]))\n",
    "\n",
    "def test_mae():\n",
    "    return torch.mean(torch.abs(model(dataset['test_input'])[:,0] - dataset['test_label'][:,0]))\n",
    "\n",
    "def train_mse():\n",
    "    return torch.mean((model(dataset['train_input'])[:,0] - dataset['train_label'][:,0])**2)\n",
    "\n",
    "def test_mse():\n",
    "    return torch.mean((model(dataset['test_input'])[:,0] - dataset['test_label'][:,0])**2)\n",
    "\n",
    "results = model.train(dataset, opt=\"LBFGS\", steps=20, metrics=(train_acc, test_acc, train_mae, test_mae, train_mse, test_mse))\n",
    "\n",
    "train_acc, test_acc = results['train_acc'][-1], results['test_acc'][-1]\n",
    "train_mae, test_mae = results['train_mae'][-1], results['test_mae'][-1]\n",
    "train_mse, test_mse = results['train_mse'][-1], results['test_mse'][-1]\n",
    "\n",
    "print(f\"Train accuracy: {train_acc}\\n\") \n",
    "print(f\"Test accuracy: {test_acc}\\n\") \n",
    "print(f\"Train MAE: {train_mae}\\n\") \n",
    "print(f\"Test MAE: {test_mae}\\n\") \n",
    "print(f\"Train MSE: {train_mse}\\n\") \n",
    "print(f\"Test MSE: {test_mse}\\n\")\n"
   ]
  },
  {
   "cell_type": "code",
   "execution_count": 6,
   "id": "9d69f993",
   "metadata": {},
   "outputs": [
    {
     "name": "stdout",
     "output_type": "stream",
     "text": [
      "fixing (0,0,0) with abs, r2=0.9999447464942932\n",
      "fixing (0,1,0) with abs, r2=0.999936044216156\n",
      "fixing (0,2,0) with tanh, r2=0.9497767090797424\n",
      "fixing (0,3,0) with x^3, r2=0.9891162514686584\n",
      "fixing (0,4,0) with tan, r2=0.9454817175865173\n",
      "fixing (0,5,0) with sin, r2=0.9901576638221741\n",
      "fixing (0,6,0) with sin, r2=0.9499074816703796\n",
      "fixing (0,7,0) with x^4, r2=0.5683510899543762\n",
      "fixing (0,8,0) with sin, r2=0.9710838198661804\n",
      "fixing (0,9,0) with sin, r2=0.8962866067886353\n"
     ]
    },
    {
     "data": {
      "text/latex": [
       "$\\displaystyle - 4265.95 \\left(0.08 - x_{8}\\right)^{4} - 0.22 \\left(1 - 0.06 x_{4}\\right)^{3} - 0.11 \\sin{\\left(0.11 x_{10} - 8.4 \\right)} + 0.08 \\sin{\\left(0.44 x_{6} + 1.59 \\right)} - 0.14 \\sin{\\left(0.8 x_{7} - 0.21 \\right)} + 0.26 \\sin{\\left(1.26 x_{9} + 5.86 \\right)} - 0.09 \\tan{\\left(3.11 x_{5} - 6.09 \\right)} + 0.14 \\tanh{\\left(6.68 x_{3} - 8.25 \\right)} + 0.75$"
      ],
      "text/plain": [
       "-4265.95*(0.08 - x_8)**4 - 0.22*(1 - 0.06*x_4)**3 - 0.11*sin(0.11*x_10 - 8.4) + 0.08*sin(0.44*x_6 + 1.59) - 0.14*sin(0.8*x_7 - 0.21) + 0.26*sin(1.26*x_9 + 5.86) - 0.09*tan(3.11*x_5 - 6.09) + 0.14*tanh(6.68*x_3 - 8.25) + 0.75"
      ]
     },
     "execution_count": 6,
     "metadata": {},
     "output_type": "execute_result"
    }
   ],
   "source": [
    "lib = ['x','x^2','x^3','x^4','exp','log','sqrt','tanh','sin','tan','abs']\n",
    "model.auto_symbolic(lib=lib)\n",
    "formula = model.symbolic_formula()[0][0]\n",
    "formula"
   ]
  },
  {
   "cell_type": "code",
   "execution_count": null,
   "id": "3b525572",
   "metadata": {},
   "outputs": [],
   "source": []
  },
  {
   "cell_type": "code",
   "execution_count": null,
   "id": "7ff0ccd7",
   "metadata": {},
   "outputs": [],
   "source": []
  }
 ],
 "metadata": {
  "kernelspec": {
   "display_name": "Python 3 (ipykernel)",
   "language": "python",
   "name": "python3"
  },
  "language_info": {
   "codemirror_mode": {
    "name": "ipython",
    "version": 3
   },
   "file_extension": ".py",
   "mimetype": "text/x-python",
   "name": "python",
   "nbconvert_exporter": "python",
   "pygments_lexer": "ipython3",
   "version": "3.11.7"
  }
 },
 "nbformat": 4,
 "nbformat_minor": 5
}
